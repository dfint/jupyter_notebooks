{
 "cells": [
  {
   "cell_type": "code",
   "execution_count": 1,
   "metadata": {},
   "outputs": [],
   "source": [
    "from collections import Counter\n",
    "import math\n",
    "from operator import itemgetter\n",
    "\n",
    "\n",
    "def triplets(s: bytes):\n",
    "    s = b' ' + s.strip() + b' '\n",
    "    memview = memoryview(s)\n",
    "    for i in range(len(s)-2):\n",
    "        yield memview[i:i+3]\n",
    "        \n",
    "\n",
    "def all_triplets_from_many_lines(lines):\n",
    "    for line in lines:\n",
    "        yield from triplets(line)\n",
    "        \n",
    "\n",
    "def load_file(filename):\n",
    "    with open(filename, 'rb') as file:\n",
    "        return {line.rstrip(b'\\r\\n'): i for i, line in enumerate(file.readlines())}\n",
    "    \n",
    "    \n",
    "def account_triplets(lines):\n",
    "    c = Counter(all_triplets_from_many_lines(lines))\n",
    "    m = max(c.values())\n",
    "    for key in c:\n",
    "        c[key] /= m  # Нормализуем по максимальному значению\n",
    "    return c\n",
    "\n",
    "\n",
    "def get_score(s: bytes):\n",
    "    # return sum(c[t] for t in triplets(s)) / len(s)\n",
    "    return sum(c[t] for t in triplets(s)) / math.log(len(s)+1)  # Преимущество длинным строкам"
   ]
  },
  {
   "cell_type": "code",
   "execution_count": 2,
   "metadata": {},
   "outputs": [],
   "source": [
    "old_file = load_file('../stringdumps/stringdump_0_47_04.txt')\n",
    "old_file.update(load_file('../stringdumps/stringdump_0_47_03.txt'))\n",
    "old_file.update(load_file('../stringdumps/stringdump_0_47_02.txt'))\n",
    "old_file.update(load_file('../stringdumps/stringdump_0_47_01.txt'))\n",
    "old_file.update(load_file('../stringdumps/stringdump_0_44_12.txt'))\n",
    "\n",
    "c = account_triplets(old_file)  # Обучаем на старых файлах"
   ]
  },
  {
   "cell_type": "code",
   "execution_count": 3,
   "metadata": {},
   "outputs": [],
   "source": [
    "new_file = load_file('../stringdumps/stringdump_0_47_05.txt')"
   ]
  },
  {
   "cell_type": "code",
   "execution_count": 4,
   "metadata": {},
   "outputs": [],
   "source": [
    "diff = sorted(new_file.keys()-old_file.keys(), key=lambda s: get_score(s))"
   ]
  },
  {
   "cell_type": "code",
   "execution_count": 5,
   "metadata": {
    "scrolled": true
   },
   "outputs": [
    {
     "name": "stdout",
     "output_type": "stream",
     "text": [
      "b'HAS_ANY_CAN_SWIM' 0.0945736140972517\n",
      "b' problems with ' 0.4049707121470912\n",
      "b'a friend' 0.5315027071271764\n",
      "b'an acquaintance' 0.5638938998585207\n",
      "b'I discussed my problems with my child.' 0.8246479558002962\n",
      "b'I discussed my problems with my spouse.' 0.8340309141485386\n",
      "b'I discussed my problems with somebody.' 0.8441903805443917\n",
      "b'I discussed my problems with my friend.' 0.8468645865362693\n",
      "b'I discussed my problems with my lover.' 0.895085421680098\n",
      "b\"discussing somebody's problems\" 0.943172884388792\n",
      "b\"discussing a child's problems\" 1.037606234755724\n",
      "b\"discussing a friend's problems\" 1.0529545242598408\n",
      "b'I discussed my problems with my mother.' 1.0647214350197935\n",
      "b'I discussed my problems with an acquaintance.' 1.0658386581410095\n",
      "b'I discussed my problems with my father.' 1.0735577340408542\n",
      "b'I discussed my problems with my sibling.' 1.1087396398204195\n",
      "b'a sibling' 1.1169979922602844\n",
      "b\"discussing a lover's problems\" 1.1242588198672723\n",
      "b'relation abstract chat' 1.150594803973084\n",
      "b\"discussing an acquaintance's problems\" 1.1524889468921342\n",
      "b\"discussing mother's problems\" 1.177352331773588\n",
      "b\"discussing father's problems\" 1.183517686811995\n",
      "b'relation gave personal chat' 1.184976375943327\n",
      "b\"sharing somebody's personal insight\" 1.219797662550742\n",
      "b'the spouse' 1.2217252770886098\n",
      "b'I shared a personal insight with my child.' 1.2450719301218915\n",
      "b'I shared a personal insight with my spouse.' 1.2521718060900022\n",
      "b'Somebody shared a personal insight with me.' 1.254889237329162\n",
      "b'My child shared a personal insight with me.' 1.2611957286955149\n",
      "b'I shared a personal insight with somebody.' 1.2641070453943055\n",
      "b'I shared a personal insight with my friend.' 1.264682244247645\n",
      "b'talking with an acquaintance' 1.2709274400200665\n",
      "b'Somebody discussed their problems with me.' 1.2735988101913893\n",
      "b'My child discussed their problems with me.' 1.2827294752407583\n",
      "b'My spouse shared a personal insight with me.' 1.2943729556067232\n",
      "b'My spouse discussed their problems with me.' 1.3041106333592334\n",
      "b\"sharing a child's personal insight\" 1.311103142773971\n",
      "b'I shared a personal insight with my lover.' 1.3136808821877728\n",
      "b'I had an intellectual discussion with my child.' 1.3147943299683071\n",
      "b'I had an intellectual discussion with my spouse.' 1.3220867424624967\n",
      "b\"sharing a friend's personal insight\" 1.3249983753358672\n",
      "b\"discussing a sibling's problems\" 1.3307280218056134\n",
      "b'I had an intellectual discussion with somebody.' 1.333288558907365\n",
      "b'I had an intellectual discussion with my friend.' 1.3342511968220443\n",
      "b'My friend shared a personal insight with me.' 1.3441192838080291\n",
      "b'My friend discussed their problems with me.' 1.3658424675469478\n",
      "b'relation received personal chat' 1.3705322970897444\n",
      "b'I had an intellectual discussion with my lover.' 1.3814537459275127\n",
      "b\"sharing a lover's personal insight\" 1.3939986963170998\n",
      "b'An acquaintance shared a personal insight with me.' 1.4068848515496009\n",
      "b\"sharing an acquaintance's personal insight\" 1.4156657680781848\n",
      "b'An acquaintance discussed their problems with me.' 1.41599036516079\n",
      "b'My lover shared a personal insight with me.' 1.4521337274621664\n",
      "b'I shared a personal insight with an acquaintance.' 1.4679182780267575\n",
      "b'I shared a personal insight with my mother.' 1.4770520592023908\n",
      "b'My lover discussed their problems with me.' 1.4793740807107887\n",
      "b'I shared a personal insight with my father.' 1.485665803507653\n",
      "b'relation gave stress complaint chat' 1.490244168140913\n",
      "b'sharing a personal insight with somebody' 1.4981386566236607\n",
      "b'I shared a personal insight with my sibling.' 1.5181804629140327\n",
      "b'I had an intellectual discussion with an acquaintance.' 1.5345363714897633\n",
      "b'I had an intellectual discussion with my mother.' 1.540747795007484\n",
      "b'I had an intellectual discussion with my father.' 1.5491233209599593\n",
      "b'I had an intellectual discussion with my sibling.' 1.5812967009604717\n",
      "b\"sharing a sibling's personal insight\" 1.5908077749830485\n",
      "b'sharing a personal insight with a child' 1.5934792567978893\n",
      "b\"discussing the spouse's problems\" 1.5979690386252452\n",
      "b'My mother shared a personal insight with me.' 1.6139013690226924\n",
      "b'My father shared a personal insight with me.' 1.6224642615819338\n",
      "b'My mother discussed their problems with me.' 1.6417386467530035\n",
      "b'My father discussed their problems with me.' 1.6503523910582663\n",
      "b'relation received stress complaint chat' 1.6600670815637375\n",
      "b'sharing a personal insight with a friend' 1.671704138150612\n",
      "b'My sibling shared a personal insight with me.' 1.6994531856579853\n",
      "b'sharing a personal insight with an acquaintance' 1.7058294903545663\n",
      "b'My sibling discussed their problems with me.' 1.7271558170383705\n",
      "b'having an intellectual discussion with somebody' 1.7509874856773067\n",
      "b'sharing a personal insight with a lover' 1.7938212982932402\n",
      "b\"sharing one of mother's personal insight\" 1.8121970881283282\n",
      "b\"sharing one of father's personal insight\" 1.8165336128022405\n",
      "b'having an intellectual discussion with a child' 1.8423012003907455\n",
      "b'sharing a personal insight with mother' 1.8515520636268807\n",
      "b'sharing a personal insight with father' 1.8554181801751701\n",
      "b'having an intellectual discussion with a friend' 1.917485665990451\n",
      "b'having an intellectual discussion with an acquaintance' 1.9510699868089543\n",
      "b'having an intellectual discussion with a lover' 2.0342516701179827\n",
      "b'sharing a personal insight with a sibling' 2.036602130069604\n",
      "b'having an intellectual discussion with mother' 2.089057959516301\n",
      "b'having an intellectual discussion with father' 2.0927573804959647\n",
      "b'sharing a personal insight with the spouse' 2.115012808045971\n",
      "b\"sharing one of the spouse's personal insight\" 2.2010711445135174\n",
      "b'having an intellectual discussion with a sibling' 2.2681223405230697\n",
      "b'having an intellectual discussion with the spouse' 2.3440468174511127\n"
     ]
    }
   ],
   "source": [
    "for item in diff:\n",
    "    print(item, get_score(item))"
   ]
  },
  {
   "cell_type": "code",
   "execution_count": 6,
   "metadata": {},
   "outputs": [],
   "source": [
    "threshold = 0.07"
   ]
  },
  {
   "cell_type": "code",
   "execution_count": 7,
   "metadata": {},
   "outputs": [],
   "source": [
    "with open('output2.txt', 'wb') as output:\n",
    "    for line, number in sorted(new_file.items(), key=itemgetter(1)):\n",
    "        if line in diff and get_score(line) < threshold: # Отсеиваем только добавившиеся строки\n",
    "            continue\n",
    "        \n",
    "        output.write(line)\n",
    "        output.write(b'\\r\\n')"
   ]
  },
  {
   "cell_type": "code",
   "execution_count": null,
   "metadata": {},
   "outputs": [],
   "source": []
  }
 ],
 "metadata": {
  "kernelspec": {
   "display_name": "Python 3",
   "language": "python",
   "name": "python3"
  },
  "language_info": {
   "codemirror_mode": {
    "name": "ipython",
    "version": 3
   },
   "file_extension": ".py",
   "mimetype": "text/x-python",
   "name": "python",
   "nbconvert_exporter": "python",
   "pygments_lexer": "ipython3",
   "version": "3.8.10"
  },
  "vscode": {
   "interpreter": {
    "hash": "31f2aee4e71d21fbe5cf8b01ff0e069b9275f58929596ceb00d14d90e3e16cd6"
   }
  }
 },
 "nbformat": 4,
 "nbformat_minor": 2
}
