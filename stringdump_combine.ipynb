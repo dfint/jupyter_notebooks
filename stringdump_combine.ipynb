{
 "cells": [
  {
   "cell_type": "markdown",
   "id": "5514ea1f",
   "metadata": {},
   "source": [
    "Combine stringdump from the stable DF 50.13 version with text from 51.01 beta version"
   ]
  },
  {
   "cell_type": "code",
   "execution_count": 2,
   "id": "63d5d46a",
   "metadata": {},
   "outputs": [],
   "source": [
    "with open(\"../stringdumps/stringdump_steam_50_13.txt\", \"rb\") as file:\n",
    "    data = [line for line in file]\n",
    "    data_set = set(data)"
   ]
  },
  {
   "cell_type": "code",
   "execution_count": 3,
   "id": "d61e243e",
   "metadata": {},
   "outputs": [],
   "source": [
    "with open(\"../stringdumps/stringdump_steam_51_01_beta_13.txt\", \"rb\") as file:\n",
    "    for line in file:\n",
    "        if line not in data_set:\n",
    "            data.append(line)\n",
    "            data_set.add(line)"
   ]
  },
  {
   "cell_type": "code",
   "execution_count": 4,
   "id": "5402baac",
   "metadata": {},
   "outputs": [],
   "source": [
    "with open(\"combined.txt\", \"wb\") as file:\n",
    "    for line in data:\n",
    "        file.write(line)"
   ]
  },
  {
   "cell_type": "code",
   "execution_count": null,
   "id": "a771a090",
   "metadata": {},
   "outputs": [],
   "source": []
  }
 ],
 "metadata": {
  "kernelspec": {
   "display_name": "Python 3",
   "language": "python",
   "name": "python3"
  },
  "language_info": {
   "codemirror_mode": {
    "name": "ipython",
    "version": 3
   },
   "file_extension": ".py",
   "mimetype": "text/x-python",
   "name": "python",
   "nbconvert_exporter": "python",
   "pygments_lexer": "ipython3",
   "version": "3.10.12"
  }
 },
 "nbformat": 4,
 "nbformat_minor": 5
}
