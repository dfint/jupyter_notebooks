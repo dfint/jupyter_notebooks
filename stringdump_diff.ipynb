{
 "cells": [
  {
   "cell_type": "markdown",
   "metadata": {},
   "source": [
    "Filter garbage strings from a new stringdump"
   ]
  },
  {
   "cell_type": "code",
   "execution_count": 1,
   "metadata": {},
   "outputs": [],
   "source": [
    "from collections import Counter\n",
    "import math\n",
    "from operator import itemgetter\n",
    "from collections.abc import Iterator\n",
    "\n",
    "\n",
    "def triplets(s: bytes) -> Iterator[memoryview]:\n",
    "    s = b' ' + s.strip() + b' '\n",
    "    memview = memoryview(s)\n",
    "    for i in range(len(s)-2):\n",
    "        yield memview[i:i+3]\n",
    "\n",
    "\n",
    "def all_triplets_from_many_lines(lines: Iterator[bytes]) -> Iterator[memoryview]:\n",
    "    for line in lines:\n",
    "        yield from triplets(line)\n",
    "\n",
    "\n",
    "def load_file(filename: str) -> dict[bytes, int]:\n",
    "    with open(filename, 'rb') as file:\n",
    "        return {line.rstrip(b'\\r\\n'): i for i, line in enumerate(file.readlines())}\n",
    "\n",
    "\n",
    "def account_triplets(lines: Iterator[bytes]):\n",
    "    c = Counter(all_triplets_from_many_lines(lines))\n",
    "    m = max(c.values())\n",
    "    for key in c:\n",
    "        c[key] /= m  # Normalize by max value\n",
    "    return c\n",
    "\n",
    "\n",
    "def get_score(s: bytes, trained: dict[bytes, float]) -> float:\n",
    "    # return sum(c[t] for t in triplets(s)) / len(s)\n",
    "    return math.sqrt(sum(trained[t] for t in triplets(s)) / math.log(len(s) + 1))"
   ]
  },
  {
   "cell_type": "code",
   "execution_count": 2,
   "metadata": {},
   "outputs": [],
   "source": [
    "old_file = load_file('../stringdumps/stringdump_0_47_04.txt').keys()\n",
    "old_file |= load_file('../stringdumps/stringdump_0_47_05.txt').keys()\n",
    "old_file |= load_file('../stringdumps/stringdump_0_47_03.txt').keys()\n",
    "old_file |= load_file('../stringdumps/stringdump_0_47_02.txt').keys()\n",
    "old_file |= load_file('../stringdumps/stringdump_0_47_01.txt').keys()\n",
    "old_file |= load_file('../stringdumps/stringdump_0_44_12.txt').keys()\n",
    "old_file |= load_file('../stringdumps/stringdump_steam_50_01.txt').keys()\n",
    "old_file |= load_file('../stringdumps/stringdump_steam_50_02.txt').keys()\n",
    "old_file |= load_file('../stringdumps/stringdump_steam_50_05.txt').keys()\n",
    "old_file |= load_file('../stringdumps/stringdump_steam_50_06.txt').keys()\n",
    "old_file |= load_file('../stringdumps/stringdump_steam_50_08.txt').keys()\n",
    "old_file |= load_file('../stringdumps/stringdump_steam_50_09.txt').keys()\n",
    "old_file |= load_file('../stringdumps/stringdump_steam_50_10.txt').keys()\n",
    "old_file |= load_file('../stringdumps/stringdump_steam_50_11.txt').keys()\n",
    "old_file |= load_file('../stringdumps/stringdump_steam_50_12.txt').keys()\n",
    "old_file |= load_file('../stringdumps/stringdump_steam_50_13.txt').keys()\n",
    "old_file |= load_file('../stringdumps/stringdump_steam_50_14.txt').keys()\n",
    "old_file |= load_file('../stringdumps/stringdump_steam_51_01.txt').keys()\n",
    "\n",
    "trained = account_triplets(old_file)  # Обучаем на старых файлах"
   ]
  },
  {
   "cell_type": "code",
   "execution_count": 3,
   "metadata": {},
   "outputs": [],
   "source": [
    "new_file = load_file('../dfint64_patch/stringdump.txt')"
   ]
  },
  {
   "cell_type": "code",
   "execution_count": 4,
   "metadata": {},
   "outputs": [],
   "source": [
    "diff = sorted(new_file.keys() - old_file, key=lambda s: get_score(s, trained))"
   ]
  },
  {
   "cell_type": "code",
   "execution_count": 5,
   "metadata": {
    "scrolled": true
   },
   "outputs": [
    {
     "name": "stdout",
     "output_type": "stream",
     "text": [
      "b'7G'                                    0.0000000000\n",
      "b'0KG'                                   0.0000000000\n",
      "b'k'                                     0.0000000000\n",
      "b'+0x%llX'                               0.0000000000\n",
      "b'&tC'                                   0.0000000000\n",
      "b'`Y0'                                   0.0000000000\n",
      "b'%u> '                                  0.0000000000\n",
      "b'KG'                                    0.0000000000\n",
      "b'j0KG'                                  0.0000000000\n",
      "b'ltP'                                   0.0000000000\n",
      "b'0!p'                                   0.0000000000\n",
      "b'cg'                                    0.0000000000\n",
      "b'`j0KG'                                 0.0000000000\n",
      "b'6V'                                    0.0000000000\n",
      "b'Xt4'                                   0.0000000000\n",
      "b'P>L'                                   0.0000000000\n",
      "b'/F'                                    0.0000000000\n",
      "b'YGy'                                   0.0000000000\n",
      "b\"'4M\"                                   0.0000000000\n",
      "b'-G'                                    0.0000000000\n",
      "b'L#>'                                   0.0000000000\n",
      "b'\\\\F'                                   0.0000000000\n",
      "b'H1!'                                   0.0000000000\n",
      "b\"'4G\"                                   0.0000000000\n",
      "b'ww'                                    0.0000000000\n",
      "b'bG\"'                                   0.0000000000\n",
      "b'pFH'                                   0.0000000000\n",
      "b'P7L'                                   0.0000000000\n",
      "b'%f'                                    0.0000000000\n",
      "b'SR'                                    0.0000000000\n",
      "b'&4o'                                   0.0000000000\n",
      "b'r+b'                                   0.0000000000\n",
      "b'h4'                                    0.0000000000\n",
      "b'kWz'                                   0.0000000000\n",
      "b\"'4E\"                                   0.0000000000\n",
      "b'+_g'                                   0.0000000000\n",
      "b'h'                                     0.0000000000\n",
      "b'%Y-%m-%d-%H-%M-%S'                     0.0000000000\n",
      "b'UE5'                                   0.0000000000\n",
      "b'0NL'                                   0.0000000000\n",
      "b\"'tF\"                                   0.0105215987\n",
      "b\"'tA\"                                   0.0105215987\n",
      "b\"'dx\"                                   0.0105215987\n",
      "b\"'tC\"                                   0.0105215987\n",
      "b\"'t=\"                                   0.0105215987\n",
      "b'NPz'                                   0.0105215987\n",
      "b\"'d<\"                                   0.0105215987\n",
      "b\"'dJ\"                                   0.0105215987\n",
      "b' v '                                   0.0105215987\n",
      "b\"'dR\"                                   0.0105215987\n",
      "b\"'tH\"                                   0.0105215987\n",
      "b' N/A '                                 0.0160298787\n",
      "b'gI3'                                   0.0182239435\n",
      "b'UTF-8'                                 0.0185097095\n",
      "b':pFH'                                  0.0195300045\n",
      "b\"'ti\"                                   0.0210431974\n",
      "b'0_H'                                   0.0210431974\n",
      "b'[fO'                                   0.0235270099\n",
      "b' N'                                    0.0264284832\n",
      "b'Oh '                                   0.0278375336\n",
      "b'Q55'                                   0.0278375336\n",
      "b'G'                                     0.0297595752\n",
      "b'J'                                     0.0297595752\n",
      "b'L'                                     0.0297595752\n",
      "b'df3'                                   0.0297595752\n",
      "b'df9'                                   0.0297595752\n",
      "b'C'                                     0.0297595752\n",
      "b':UP]'                                  0.0308796485\n",
      "b'C24'                                   0.0315647961\n",
      "b'T'                                     0.0332722165\n",
      "b'U'                                     0.0332722165\n",
      "b'O'                                     0.0332722165\n",
      "b'Q'                                     0.0332722165\n",
      "b'P'                                     0.0332722165\n",
      "b'P:'                                    0.0472767079\n",
      "b'df15'                                  0.0478385458\n",
      "b'Z'                                     0.0493506724\n",
      "b'_G'                                    0.0528569663\n",
      "b'(%u): '                                0.0547444213\n",
      "b'CEJ'                                   0.1067825644\n",
      "b'ilf'                                   0.1133210861\n",
      "b'rtol'                                  0.1461491715\n",
      "b'.pdata'                                0.2782939817\n",
      "b'_Mtx_unlock'                           0.3215378843\n",
      "b'RUNTIME140.dll'                        0.3672565797\n",
      "b'SDL_GetDesktopDisplayMode'             0.3739664027\n",
      "b'SDL_ShowSimpleMessageBox'              0.4508322930\n",
      "b' to interact.'                         0.9886217250\n",
      "b'Move the cursor to view and press '    1.4135526552\n"
     ]
    }
   ],
   "source": [
    "for item in diff[:200]:\n",
    "    score = get_score(item, trained)\n",
    "    print(f\"{item!r:40} {score:.10f}\")"
   ]
  },
  {
   "cell_type": "code",
   "execution_count": 6,
   "metadata": {},
   "outputs": [],
   "source": [
    "threshold = 0.016"
   ]
  },
  {
   "cell_type": "code",
   "execution_count": 7,
   "metadata": {},
   "outputs": [],
   "source": [
    "with open('../stringdumps/stringdump_steam_51_02.txt', 'wb') as output:\n",
    "    for line, number in sorted(new_file.items(), key=itemgetter(1)):\n",
    "        if line in diff and get_score(line, trained) < threshold: # Отсеиваем только добавившиеся строки\n",
    "            continue\n",
    "        \n",
    "        output.write(line)\n",
    "        output.write(b'\\n')"
   ]
  },
  {
   "cell_type": "code",
   "execution_count": null,
   "metadata": {},
   "outputs": [],
   "source": []
  }
 ],
 "metadata": {
  "kernelspec": {
   "display_name": "Python 3 (ipykernel)",
   "language": "python",
   "name": "python3"
  },
  "language_info": {
   "codemirror_mode": {
    "name": "ipython",
    "version": 3
   },
   "file_extension": ".py",
   "mimetype": "text/x-python",
   "name": "python",
   "nbconvert_exporter": "python",
   "pygments_lexer": "ipython3",
   "version": "3.12.3"
  },
  "vscode": {
   "interpreter": {
    "hash": "31f2aee4e71d21fbe5cf8b01ff0e069b9275f58929596ceb00d14d90e3e16cd6"
   }
  }
 },
 "nbformat": 4,
 "nbformat_minor": 4
}
